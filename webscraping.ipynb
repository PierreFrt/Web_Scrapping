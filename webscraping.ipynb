{
 "cells": [
  {
   "cell_type": "markdown",
   "metadata": {},
   "source": [
    "# Test de Selenium pour récupérer toutes les données d'une page Web\n",
    "## Le site books.toscrape, qui correspond à un catalogue de livres réels avec leur couverture et des prix et notes fictifs.\n",
    "L'obectif est de créer un fichier CSV avec toutes ces données. Pour cela, on va utiliser Selenium (pour simuler un navigateur Web), Request (pour récupérer le code HTML des différentes pages) et BeautifulSoup (pour naviguer et récupérer facilement les données que l'on souhaite à partir du code HTML)."
   ]
  },
  {
   "cell_type": "code",
   "execution_count": 85,
   "metadata": {},
   "outputs": [
    {
     "name": "stdout",
     "output_type": "stream",
     "text": [
      "\n"
     ]
    },
    {
     "name": "stderr",
     "output_type": "stream",
     "text": [
      "[WDM] - ====== WebDriver manager ======\n",
      "[WDM] - Current google-chrome version is 105.0.5195\n",
      "[WDM] - Get LATEST chromedriver version for 105.0.5195 google-chrome\n",
      "[WDM] - Driver [/Users/fromont/.wdm/drivers/chromedriver/mac64_m1/105.0.5195.52/chromedriver] found in cache\n"
     ]
    }
   ],
   "source": [
    "from selenium import webdriver\n",
    "from selenium.webdriver.common.by import By\n",
    "from selenium.webdriver.support.ui import WebDriverWait\n",
    "from selenium.webdriver.support import expected_conditions as EC\n",
    "from selenium.common.exceptions import TimeoutException\n",
    "from webdriver_manager.chrome import ChromeDriverManager\n",
    "from selenium.webdriver.chrome.service import Service\n",
    "\n",
    "import requests\n",
    "from bs4 import BeautifulSoup\n",
    "import pandas as pd\n",
    "\n",
    "driver = webdriver.Chrome(service=Service(ChromeDriverManager().install()))\n"
   ]
  },
  {
   "cell_type": "markdown",
   "metadata": {},
   "source": [
    "# On utilise Selenium pour ouvrir un navigateur sur le site books.toscrape"
   ]
  },
  {
   "cell_type": "code",
   "execution_count": 86,
   "metadata": {},
   "outputs": [],
   "source": [
    "url = \"https://books.toscrape.com/\"\n",
    "driver.get(url)\n"
   ]
  },
  {
   "cell_type": "markdown",
   "metadata": {},
   "source": [
    "# En inspectant le code HTML, on voit que sur la page d'accueil, on peut récupérer le titre, la note, le prix et l'url de l'image de la photo de couverture mais pas la catégorie du livre. On va donc utiliser Selenium pour parcourir toutes les catégories de livre (et accéder à la page suivante si nécessaire), et pour chaque catégorie, on va récupérer toutes les informations souhaitées."
   ]
  },
  {
   "cell_type": "code",
   "execution_count": 87,
   "metadata": {},
   "outputs": [],
   "source": [
    "Categories1 = driver.find_element(By.CLASS_NAME,\"side_categories\")\n",
    "Categories1 = Categories1.text.split('\\n')\n"
   ]
  },
  {
   "cell_type": "code",
   "execution_count": 88,
   "metadata": {},
   "outputs": [],
   "source": [
    "Categories1.remove(\"Books\")"
   ]
  },
  {
   "cell_type": "code",
   "execution_count": 89,
   "metadata": {},
   "outputs": [
    {
     "data": {
      "text/plain": [
       "['Travel',\n",
       " 'Mystery',\n",
       " 'Historical Fiction',\n",
       " 'Sequential Art',\n",
       " 'Classics',\n",
       " 'Philosophy',\n",
       " 'Romance',\n",
       " 'Womens Fiction',\n",
       " 'Fiction',\n",
       " 'Childrens',\n",
       " 'Religion',\n",
       " 'Nonfiction',\n",
       " 'Music',\n",
       " 'Default',\n",
       " 'Science Fiction',\n",
       " 'Sports and Games',\n",
       " 'Add a comment',\n",
       " 'Fantasy',\n",
       " 'New Adult',\n",
       " 'Young Adult',\n",
       " 'Science',\n",
       " 'Poetry',\n",
       " 'Paranormal',\n",
       " 'Art',\n",
       " 'Psychology',\n",
       " 'Autobiography',\n",
       " 'Parenting',\n",
       " 'Adult Fiction',\n",
       " 'Humor',\n",
       " 'Horror',\n",
       " 'History',\n",
       " 'Food and Drink',\n",
       " 'Christian Fiction',\n",
       " 'Business',\n",
       " 'Biography',\n",
       " 'Thriller',\n",
       " 'Contemporary',\n",
       " 'Spirituality',\n",
       " 'Academic',\n",
       " 'Self Help',\n",
       " 'Historical',\n",
       " 'Christian',\n",
       " 'Suspense',\n",
       " 'Short Stories',\n",
       " 'Novels',\n",
       " 'Health',\n",
       " 'Politics',\n",
       " 'Cultural',\n",
       " 'Erotica',\n",
       " 'Crime']"
      ]
     },
     "execution_count": 89,
     "metadata": {},
     "output_type": "execute_result"
    }
   ],
   "source": [
    "Categories1"
   ]
  },
  {
   "cell_type": "code",
   "execution_count": 90,
   "metadata": {},
   "outputs": [
    {
     "name": "stdout",
     "output_type": "stream",
     "text": [
      "https://books.toscrape.com/catalogue/category/books/travel_2/index.html\n",
      "https://books.toscrape.com/catalogue/category/books/mystery_3/index.html\n",
      "https://books.toscrape.com/catalogue/category/books/mystery_3/page-2.html\n",
      "https://books.toscrape.com/catalogue/category/books/historical-fiction_4/index.html\n",
      "https://books.toscrape.com/catalogue/category/books/historical-fiction_4/page-2.html\n",
      "https://books.toscrape.com/catalogue/category/books/sequential-art_5/index.html\n",
      "https://books.toscrape.com/catalogue/category/books/sequential-art_5/page-2.html\n",
      "https://books.toscrape.com/catalogue/category/books/sequential-art_5/page-3.html\n",
      "https://books.toscrape.com/catalogue/category/books/sequential-art_5/page-4.html\n",
      "https://books.toscrape.com/catalogue/category/books/classics_6/index.html\n",
      "https://books.toscrape.com/catalogue/category/books/philosophy_7/index.html\n",
      "https://books.toscrape.com/catalogue/category/books/romance_8/index.html\n",
      "https://books.toscrape.com/catalogue/category/books/romance_8/page-2.html\n",
      "https://books.toscrape.com/catalogue/category/books/womens-fiction_9/index.html\n",
      "https://books.toscrape.com/catalogue/category/books/fiction_10/index.html\n",
      "https://books.toscrape.com/catalogue/category/books/fiction_10/page-2.html\n",
      "https://books.toscrape.com/catalogue/category/books/fiction_10/page-3.html\n",
      "https://books.toscrape.com/catalogue/category/books/fiction_10/page-4.html\n",
      "https://books.toscrape.com/catalogue/category/books/childrens_11/index.html\n",
      "https://books.toscrape.com/catalogue/category/books/childrens_11/page-2.html\n",
      "https://books.toscrape.com/catalogue/category/books/religion_12/index.html\n",
      "https://books.toscrape.com/catalogue/category/books/nonfiction_13/index.html\n",
      "https://books.toscrape.com/catalogue/category/books/nonfiction_13/page-2.html\n",
      "https://books.toscrape.com/catalogue/category/books/nonfiction_13/page-3.html\n",
      "https://books.toscrape.com/catalogue/category/books/nonfiction_13/page-4.html\n",
      "https://books.toscrape.com/catalogue/category/books/nonfiction_13/page-5.html\n",
      "https://books.toscrape.com/catalogue/category/books/nonfiction_13/page-6.html\n",
      "https://books.toscrape.com/catalogue/category/books/music_14/index.html\n",
      "https://books.toscrape.com/catalogue/category/books/default_15/index.html\n",
      "https://books.toscrape.com/catalogue/category/books/default_15/page-2.html\n",
      "https://books.toscrape.com/catalogue/category/books/default_15/page-3.html\n",
      "https://books.toscrape.com/catalogue/category/books/default_15/page-4.html\n",
      "https://books.toscrape.com/catalogue/category/books/default_15/page-5.html\n",
      "https://books.toscrape.com/catalogue/category/books/default_15/page-6.html\n",
      "https://books.toscrape.com/catalogue/category/books/default_15/page-7.html\n",
      "https://books.toscrape.com/catalogue/category/books/default_15/page-8.html\n",
      "https://books.toscrape.com/catalogue/category/books/science-fiction_16/index.html\n",
      "https://books.toscrape.com/catalogue/category/books/sports-and-games_17/index.html\n",
      "https://books.toscrape.com/catalogue/category/books/add-a-comment_18/index.html\n",
      "https://books.toscrape.com/catalogue/category/books/add-a-comment_18/page-2.html\n",
      "https://books.toscrape.com/catalogue/category/books/add-a-comment_18/page-3.html\n",
      "https://books.toscrape.com/catalogue/category/books/add-a-comment_18/page-4.html\n",
      "https://books.toscrape.com/catalogue/category/books/fantasy_19/index.html\n",
      "https://books.toscrape.com/catalogue/category/books/fantasy_19/page-2.html\n",
      "https://books.toscrape.com/catalogue/category/books/fantasy_19/page-3.html\n",
      "https://books.toscrape.com/catalogue/category/books/new-adult_20/index.html\n",
      "https://books.toscrape.com/catalogue/category/books/young-adult_21/index.html\n",
      "https://books.toscrape.com/catalogue/category/books/young-adult_21/page-2.html\n",
      "https://books.toscrape.com/catalogue/category/books/young-adult_21/page-3.html\n",
      "https://books.toscrape.com/catalogue/category/books/science_22/index.html\n",
      "https://books.toscrape.com/catalogue/category/books/poetry_23/index.html\n",
      "https://books.toscrape.com/catalogue/category/books/paranormal_24/index.html\n",
      "https://books.toscrape.com/catalogue/category/books/art_25/index.html\n",
      "https://books.toscrape.com/catalogue/category/books/psychology_26/index.html\n",
      "https://books.toscrape.com/catalogue/category/books/autobiography_27/index.html\n",
      "https://books.toscrape.com/catalogue/category/books/parenting_28/index.html\n",
      "https://books.toscrape.com/catalogue/category/books/adult-fiction_29/index.html\n",
      "https://books.toscrape.com/catalogue/category/books/humor_30/index.html\n",
      "https://books.toscrape.com/catalogue/category/books/horror_31/index.html\n",
      "https://books.toscrape.com/catalogue/category/books/history_32/index.html\n",
      "https://books.toscrape.com/catalogue/category/books/food-and-drink_33/index.html\n",
      "https://books.toscrape.com/catalogue/category/books/food-and-drink_33/page-2.html\n",
      "https://books.toscrape.com/catalogue/category/books/christian-fiction_34/index.html\n",
      "https://books.toscrape.com/catalogue/category/books/business_35/index.html\n",
      "https://books.toscrape.com/catalogue/category/books/biography_36/index.html\n",
      "https://books.toscrape.com/catalogue/category/books/thriller_37/index.html\n",
      "https://books.toscrape.com/catalogue/category/books/contemporary_38/index.html\n",
      "https://books.toscrape.com/catalogue/category/books/spirituality_39/index.html\n",
      "https://books.toscrape.com/catalogue/category/books/academic_40/index.html\n",
      "https://books.toscrape.com/catalogue/category/books/self-help_41/index.html\n",
      "https://books.toscrape.com/catalogue/category/books/historical_42/index.html\n",
      "https://books.toscrape.com/catalogue/category/books/christian_43/index.html\n",
      "https://books.toscrape.com/catalogue/category/books/suspense_44/index.html\n",
      "https://books.toscrape.com/catalogue/category/books/short-stories_45/index.html\n",
      "https://books.toscrape.com/catalogue/category/books/novels_46/index.html\n",
      "https://books.toscrape.com/catalogue/category/books/health_47/index.html\n",
      "https://books.toscrape.com/catalogue/category/books/politics_48/index.html\n",
      "https://books.toscrape.com/catalogue/category/books/cultural_49/index.html\n",
      "https://books.toscrape.com/catalogue/category/books/erotica_50/index.html\n",
      "https://books.toscrape.com/catalogue/category/books/crime_51/index.html\n"
     ]
    }
   ],
   "source": [
    "Titles= []\n",
    "Prices= []\n",
    "Stars = []\n",
    "Img_url = []\n",
    "Categories = []\n",
    "\n",
    "def get_all(category):\n",
    "  page_url = driver.current_url\n",
    "  print(page_url)\n",
    "  page = requests.get(page_url)\n",
    "  soup = BeautifulSoup(page.text, 'html.parser')\n",
    "\n",
    "  for i in soup.findAll('h3'):\n",
    "    title=i.a.attrs['title']\n",
    "    Titles.append(title)\n",
    "    Categories.append(c)\n",
    "  for j in soup.findAll('p', class_='price_color'):\n",
    "    price=j.getText()\n",
    "    Prices.append(price)\n",
    "  for k in soup.findAll('p',class_='star-rating'):\n",
    "    star = k.attrs['class'][1]\n",
    "    Stars.append(star)\n",
    "  divs = soup.findAll('div',class_ = 'image_container')\n",
    "  for thumbs in divs:\n",
    "    tgs=thumbs.find('img',class_='thumbnail')\n",
    "    urls ='https://books.toscrape.com/'+str(tgs['src'])\n",
    "    new_urls = urls.replace(\"../\",\"\")\n",
    "    Img_url.append(new_urls)\n",
    "\n",
    "for c in Categories1:\n",
    "  driver.find_element(By.LINK_TEXT,c).click()\n",
    "  get_all(c)\n",
    "  T = True\n",
    "  while T:\n",
    "    try : \n",
    "      driver.find_element(By.LINK_TEXT,\"next\").click()\n",
    "      get_all(c)\n",
    "    except:\n",
    "      T=False"
   ]
  },
  {
   "cell_type": "code",
   "execution_count": 95,
   "metadata": {},
   "outputs": [
    {
     "name": "stdout",
     "output_type": "stream",
     "text": [
      "<class 'pandas.core.frame.DataFrame'>\n",
      "RangeIndex: 1000 entries, 1 to 1000\n",
      "Data columns (total 5 columns):\n",
      " #   Column    Non-Null Count  Dtype  \n",
      "---  ------    --------------  -----  \n",
      " 0   Title     1000 non-null   object \n",
      " 1   Category  1000 non-null   object \n",
      " 2   Price     1000 non-null   float64\n",
      " 3   Rating    1000 non-null   int64  \n",
      " 4   Img_url   1000 non-null   object \n",
      "dtypes: float64(1), int64(1), object(3)\n",
      "memory usage: 39.2+ KB\n"
     ]
    }
   ],
   "source": [
    "data ={\"Title\":Titles,\"Category\":Categories,'Price':Prices,'Rating':Stars,\"Img_url\":Img_url} \n",
    "df = pd.DataFrame(data)\n",
    "df.index+=1\n",
    "df[\"Price\"]=df[\"Price\"].apply(lambda x : x[2:]).astype(float)\n",
    "df[\"Rating\"]=df[\"Rating\"].replace({\"Zero\":0,\"One\":1,\"Two\":2,'Three':3,\"Four\":4,\"Five\":5})\n",
    "df.info()\n"
   ]
  },
  {
   "cell_type": "code",
   "execution_count": 96,
   "metadata": {},
   "outputs": [
    {
     "data": {
      "text/html": [
       "<div>\n",
       "<style scoped>\n",
       "    .dataframe tbody tr th:only-of-type {\n",
       "        vertical-align: middle;\n",
       "    }\n",
       "\n",
       "    .dataframe tbody tr th {\n",
       "        vertical-align: top;\n",
       "    }\n",
       "\n",
       "    .dataframe thead th {\n",
       "        text-align: right;\n",
       "    }\n",
       "</style>\n",
       "<table border=\"1\" class=\"dataframe\">\n",
       "  <thead>\n",
       "    <tr style=\"text-align: right;\">\n",
       "      <th></th>\n",
       "      <th>Title</th>\n",
       "      <th>Category</th>\n",
       "      <th>Price</th>\n",
       "      <th>Rating</th>\n",
       "      <th>Img_url</th>\n",
       "    </tr>\n",
       "  </thead>\n",
       "  <tbody>\n",
       "    <tr>\n",
       "      <th>1</th>\n",
       "      <td>It's Only the Himalayas</td>\n",
       "      <td>Travel</td>\n",
       "      <td>45.17</td>\n",
       "      <td>2</td>\n",
       "      <td>https://books.toscrape.com/media/cache/27/a5/2...</td>\n",
       "    </tr>\n",
       "    <tr>\n",
       "      <th>2</th>\n",
       "      <td>Full Moon over Noahâs Ark: An Odyssey to Mou...</td>\n",
       "      <td>Travel</td>\n",
       "      <td>49.43</td>\n",
       "      <td>4</td>\n",
       "      <td>https://books.toscrape.com/media/cache/57/77/5...</td>\n",
       "    </tr>\n",
       "    <tr>\n",
       "      <th>3</th>\n",
       "      <td>See America: A Celebration of Our National Par...</td>\n",
       "      <td>Travel</td>\n",
       "      <td>48.87</td>\n",
       "      <td>3</td>\n",
       "      <td>https://books.toscrape.com/media/cache/9a/7e/9...</td>\n",
       "    </tr>\n",
       "    <tr>\n",
       "      <th>4</th>\n",
       "      <td>Vagabonding: An Uncommon Guide to the Art of L...</td>\n",
       "      <td>Travel</td>\n",
       "      <td>36.94</td>\n",
       "      <td>2</td>\n",
       "      <td>https://books.toscrape.com/media/cache/d5/bf/d...</td>\n",
       "    </tr>\n",
       "    <tr>\n",
       "      <th>5</th>\n",
       "      <td>Under the Tuscan Sun</td>\n",
       "      <td>Travel</td>\n",
       "      <td>37.33</td>\n",
       "      <td>3</td>\n",
       "      <td>https://books.toscrape.com/media/cache/98/c2/9...</td>\n",
       "    </tr>\n",
       "  </tbody>\n",
       "</table>\n",
       "</div>"
      ],
      "text/plain": [
       "                                               Title Category  Price  Rating  \\\n",
       "1                            It's Only the Himalayas   Travel  45.17       2   \n",
       "2  Full Moon over Noahâs Ark: An Odyssey to Mou...   Travel  49.43       4   \n",
       "3  See America: A Celebration of Our National Par...   Travel  48.87       3   \n",
       "4  Vagabonding: An Uncommon Guide to the Art of L...   Travel  36.94       2   \n",
       "5                               Under the Tuscan Sun   Travel  37.33       3   \n",
       "\n",
       "                                             Img_url  \n",
       "1  https://books.toscrape.com/media/cache/27/a5/2...  \n",
       "2  https://books.toscrape.com/media/cache/57/77/5...  \n",
       "3  https://books.toscrape.com/media/cache/9a/7e/9...  \n",
       "4  https://books.toscrape.com/media/cache/d5/bf/d...  \n",
       "5  https://books.toscrape.com/media/cache/98/c2/9...  "
      ]
     },
     "execution_count": 96,
     "metadata": {},
     "output_type": "execute_result"
    }
   ],
   "source": [
    "df.head()"
   ]
  },
  {
   "cell_type": "code",
   "execution_count": 97,
   "metadata": {},
   "outputs": [],
   "source": [
    "df.to_csv(\"bookstoscrap.csv\")"
   ]
  },
  {
   "cell_type": "code",
   "execution_count": null,
   "metadata": {},
   "outputs": [],
   "source": []
  }
 ],
 "metadata": {
  "kernelspec": {
   "display_name": "Python 3.9.13 64-bit",
   "language": "python",
   "name": "python3"
  },
  "language_info": {
   "codemirror_mode": {
    "name": "ipython",
    "version": 3
   },
   "file_extension": ".py",
   "mimetype": "text/x-python",
   "name": "python",
   "nbconvert_exporter": "python",
   "pygments_lexer": "ipython3",
   "version": "3.9.13"
  },
  "orig_nbformat": 4,
  "vscode": {
   "interpreter": {
    "hash": "b0fa6594d8f4cbf19f97940f81e996739fb7646882a419484c72d19e05852a7e"
   }
  }
 },
 "nbformat": 4,
 "nbformat_minor": 2
}
